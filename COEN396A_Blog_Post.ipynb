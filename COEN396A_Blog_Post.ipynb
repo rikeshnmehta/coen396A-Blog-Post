{
  "nbformat": 4,
  "nbformat_minor": 0,
  "metadata": {
    "colab": {
      "provenance": []
    },
    "kernelspec": {
      "name": "python3",
      "display_name": "Python 3"
    },
    "language_info": {
      "name": "python"
    }
  },
  "cells": [
    {
      "cell_type": "markdown",
      "source": [
        "### Utilizing DBSCAN and XGDBoost Classifiers for Credit Card Fraud Detection\n",
        "\n"
      ],
      "metadata": {
        "id": "wjuq1BTDiAPC"
      }
    },
    {
      "cell_type": "markdown",
      "source": [
        "## Dataset\n",
        "We will use a dataset from Kaggle that contains Credit Card Data with instances of fraudulent behaviour. The dataset only has numerical data as the dataset has been transformed using PCA. Additionally the data does not contain very specific column names to ensure privacy of those from whom the data was gathered. The dataset is shown below with the column \"Class\" labelling the data. "
      ],
      "metadata": {
        "id": "G4FLjtoxmGpV"
      }
    },
    {
      "cell_type": "code",
      "source": [
        "import numpy as np\n",
        "import pandas as pd\n",
        "%matplotlib inline\n",
        "import matplotlib.pyplot as plt\n",
        "from sklearn.preprocessing import normalize\n",
        "from sklearn.preprocessing import StandardScaler\n",
        "\n",
        "\n",
        "def load_data(data_path):\n",
        "  data = pd.read_csv(data_path)\n",
        "  data.fillna(method=\"ffill\", inplace=True)\n",
        "  return data\n"
      ],
      "metadata": {
        "id": "ilr3dhuooDFj"
      },
      "execution_count": 142,
      "outputs": []
    },
    {
      "cell_type": "code",
      "source": [
        "cc_data = load_data('creditcard.csv')\n",
        "print(cc_data.head())\n",
        "print(cc_data.columns)\n",
        "\n",
        "X_Cols = [x for x in cc_data.columns if x != 'Class']\n",
        "print(X_Cols)"
      ],
      "metadata": {
        "colab": {
          "base_uri": "https://localhost:8080/"
        },
        "id": "D3cepxbDo0dX",
        "outputId": "09cdc378-522d-4013-e3a6-f3edc352d71e"
      },
      "execution_count": 158,
      "outputs": [
        {
          "output_type": "stream",
          "name": "stdout",
          "text": [
            "   Time        V1        V2        V3        V4        V5        V6        V7  \\\n",
            "0   0.0 -1.359807 -0.072781  2.536347  1.378155 -0.338321  0.462388  0.239599   \n",
            "1   0.0  1.191857  0.266151  0.166480  0.448154  0.060018 -0.082361 -0.078803   \n",
            "2   1.0 -1.358354 -1.340163  1.773209  0.379780 -0.503198  1.800499  0.791461   \n",
            "3   1.0 -0.966272 -0.185226  1.792993 -0.863291 -0.010309  1.247203  0.237609   \n",
            "4   2.0 -1.158233  0.877737  1.548718  0.403034 -0.407193  0.095921  0.592941   \n",
            "\n",
            "         V8        V9  ...       V21       V22       V23       V24       V25  \\\n",
            "0  0.098698  0.363787  ... -0.018307  0.277838 -0.110474  0.066928  0.128539   \n",
            "1  0.085102 -0.255425  ... -0.225775 -0.638672  0.101288 -0.339846  0.167170   \n",
            "2  0.247676 -1.514654  ...  0.247998  0.771679  0.909412 -0.689281 -0.327642   \n",
            "3  0.377436 -1.387024  ... -0.108300  0.005274 -0.190321 -1.175575  0.647376   \n",
            "4 -0.270533  0.817739  ... -0.009431  0.798278 -0.137458  0.141267 -0.206010   \n",
            "\n",
            "        V26       V27       V28  Amount  Class  \n",
            "0 -0.189115  0.133558 -0.021053  149.62      0  \n",
            "1  0.125895 -0.008983  0.014724    2.69      0  \n",
            "2 -0.139097 -0.055353 -0.059752  378.66      0  \n",
            "3 -0.221929  0.062723  0.061458  123.50      0  \n",
            "4  0.502292  0.219422  0.215153   69.99      0  \n",
            "\n",
            "[5 rows x 31 columns]\n",
            "Index(['Time', 'V1', 'V2', 'V3', 'V4', 'V5', 'V6', 'V7', 'V8', 'V9', 'V10',\n",
            "       'V11', 'V12', 'V13', 'V14', 'V15', 'V16', 'V17', 'V18', 'V19', 'V20',\n",
            "       'V21', 'V22', 'V23', 'V24', 'V25', 'V26', 'V27', 'V28', 'Amount',\n",
            "       'Class'],\n",
            "      dtype='object')\n",
            "['Time', 'V1', 'V2', 'V3', 'V4', 'V5', 'V6', 'V7', 'V8', 'V9', 'V10', 'V11', 'V12', 'V13', 'V14', 'V15', 'V16', 'V17', 'V18', 'V19', 'V20', 'V21', 'V22', 'V23', 'V24', 'V25', 'V26', 'V27', 'V28', 'Amount']\n"
          ]
        }
      ]
    },
    {
      "cell_type": "markdown",
      "source": [
        "## DBSCAN\n",
        "DBSCAN, short for Density-Based Spatial Clustering of Applications with Noise, is a widely used clustering algorithm in data mining and machine learning. Its primary objective is to identify clusters of arbitrary shapes within a dataset, while also being able to distinguish noise points and remain unaffected by the input's order. The algorithm operates based on the concept of density, where clusters are defined as dense regions of data points separated by sparser areas. To accomplish this, DBSCAN considers two essential parameters: epsilon (ε) and the minimum number of points (minPts).\n",
        "\n",
        "Epsilon is a hyperparameter that specifies the radius to consider datapoints around a considered datapoint. MinPts is the minimum number of points that must be within radius epsilon of a considered datapoint for that point to be considered a core point.\n",
        "\n",
        "The algorithm considers datapoints and counts the number of neighboring points within epsilon distance. If the count of points is larger than minPts, the point is considered a core and the points are added to the cluster. All of the points in the set are considered recursively. If a datapoint has less than minPts neighboring points, it is considered an outlier."
      ],
      "metadata": {
        "id": "KylbxmvCiAGg"
      }
    },
    {
      "cell_type": "markdown",
      "source": [
        "# Selecting Hyperparameters\n",
        "To select the best value for epsilon and minPts we must analyze our dataset. To pick the best epsilon we can first plot a K-distance graph."
      ],
      "metadata": {
        "id": "7MpuX5600t7z"
      }
    },
    {
      "cell_type": "code",
      "execution_count": 28,
      "metadata": {
        "id": "4VTzwOr7h6bi"
      },
      "outputs": [],
      "source": [
        "from sklearn.neighbors import NearestNeighbors\n",
        "neighbors = NearestNeighbors(n_neighbors=2).fit(cc_data[X_Cols])\n",
        "distances, indices = neighbors.kneighbors(cc_data[X_Cols])"
      ]
    },
    {
      "cell_type": "code",
      "source": [
        "distances_plot = np.sort(distances, axis=0)[:,1]\n",
        "# Only plot points at the graph's elbow\n",
        "plt.plot(distances_plot[210000:284000])\n",
        "plt.xlabel('Data Points by Distance')\n",
        "plt.ylabel('Epsilon Value')\n",
        "plt.title('K-Distance Evaluation Graph')\n",
        "plt.show()"
      ],
      "metadata": {
        "colab": {
          "base_uri": "https://localhost:8080/",
          "height": 472
        },
        "id": "NJh39Jjj7MUr",
        "outputId": "a64c874d-915c-46bf-aad8-e2b7ea2826b4"
      },
      "execution_count": 72,
      "outputs": [
        {
          "output_type": "display_data",
          "data": {
            "text/plain": [
              "<Figure size 640x480 with 1 Axes>"
            ],
            "image/png": "[encoded data removed]"
          },
          "metadata": {}
        }
      ]
    },
    {
      "cell_type": "markdown",
      "source": [
        "The best epsilon value is roughly where the graph steeply curves upwards. Based on the graph, we can pick an ideal epsilon value of 90. \n",
        "\n",
        "MinPts is generally set to at least 2 times the data's dimensionality. In testing it appears as though 60 is too small so we can increase it to reduce cluster count. In our dataset case, the data has 30 dimensions. We will set the minPts value to 100."
      ],
      "metadata": {
        "id": "qa1XfIDiIMkN"
      }
    },
    {
      "cell_type": "code",
      "source": [
        "from sklearn.cluster import DBSCAN\n",
        "\n",
        "# Fit DBSCAN on our input data\n",
        "model = DBSCAN(eps=90, min_samples=100).fit(cc_data[X_Cols])"
      ],
      "metadata": {
        "id": "BHGNunrpIjeH"
      },
      "execution_count": 91,
      "outputs": []
    },
    {
      "cell_type": "markdown",
      "source": [
        "Now that the model is fit, we can visualize the clustering and assess the model's performance."
      ],
      "metadata": {
        "id": "Cba0P5A2Lbt_"
      }
    },
    {
      "cell_type": "code",
      "source": [
        "print(\"Clusters:\", len(np.unique(model.labels_))-1)\n",
        "print(\"Anomalies Detected:\", list(model.labels_).count(-1))\n",
        "print(\"True Anomaly Count:\",cc_data['Class'].value_counts()[1])\n",
        "TP = cc_data.iloc[np.argwhere(model.labels_ == -1).reshape((-1,))]['Class'].value_counts()[1]\n",
        "print(\"True Positives:\", TP)\n",
        "print(\"False Positive:\", list(model.labels_).count(-1) - TP)"
      ],
      "metadata": {
        "colab": {
          "base_uri": "https://localhost:8080/"
        },
        "id": "vMprFb0RLi64",
        "outputId": "549e130f-84bf-4469-e345-d083aaa242ec"
      },
      "execution_count": 95,
      "outputs": [
        {
          "output_type": "stream",
          "name": "stdout",
          "text": [
            "Clusters: 25\n",
            "Anomalies Detected: 41253\n",
            "True Anomaly Count: 492\n",
            "True Positives: 167\n",
            "False Positive: 41086\n"
          ]
        }
      ]
    },
    {
      "cell_type": "markdown",
      "source": [
        "Currently the model is producing far too many false positives. \n",
        "\n",
        "We can try to scale and reduce the dimensionality of our dataset as this can improve DBSCAN's performance. As all of the columns are already scaled except for the time and amount column, we can apply scaling to only those two."
      ],
      "metadata": {
        "id": "Qad-tuy-gMRj"
      }
    },
    {
      "cell_type": "code",
      "source": [
        "from sklearn.decomposition import PCA\n",
        "\n",
        "# Standardize and Normalize Data\n",
        "scaler = StandardScaler()\n",
        "cc_data_s = cc_data.copy()\n",
        "cc_data_s = cc_data_s[X_Cols]\n",
        "cc_data_s['Time'] = scaler.fit_transform(cc_data_s['Time'].values.reshape(-1,1));\n",
        "cc_data_s['Amount'] = scaler.fit_transform(cc_data_s['Amount'].values.reshape(-1,1));\n",
        "\n",
        "# Reduce dimensionality\n",
        "pca = PCA(n_components = 2)\n",
        "cc_data_p = pd.DataFrame(pca.fit_transform(cc_data_sn))\n",
        "cc_data_p.columns = ['V1', 'V2']"
      ],
      "metadata": {
        "colab": {
          "base_uri": "https://localhost:8080/"
        },
        "id": "6HjUDHl3pusV",
        "outputId": "f093cdf8-b876-4237-cc38-cfd3524fd23d"
      },
      "execution_count": 159,
      "outputs": [
        {
          "output_type": "stream",
          "name": "stderr",
          "text": [
            "<ipython-input-159-fd1f1b04fbb5>:7: SettingWithCopyWarning: \n",
            "A value is trying to be set on a copy of a slice from a DataFrame.\n",
            "Try using .loc[row_indexer,col_indexer] = value instead\n",
            "\n",
            "See the caveats in the documentation: https://pandas.pydata.org/pandas-docs/stable/user_guide/indexing.html#returning-a-view-versus-a-copy\n",
            "  cc_data_s['Time'] = scaler.fit_transform(cc_data_s['Time'].values.reshape(-1,1));\n",
            "<ipython-input-159-fd1f1b04fbb5>:8: SettingWithCopyWarning: \n",
            "A value is trying to be set on a copy of a slice from a DataFrame.\n",
            "Try using .loc[row_indexer,col_indexer] = value instead\n",
            "\n",
            "See the caveats in the documentation: https://pandas.pydata.org/pandas-docs/stable/user_guide/indexing.html#returning-a-view-versus-a-copy\n",
            "  cc_data_s['Amount'] = scaler.fit_transform(cc_data_s['Amount'].values.reshape(-1,1));\n"
          ]
        }
      ]
    },
    {
      "cell_type": "markdown",
      "source": [
        "Now we can once again find the ideal hyperparameters and fit the DBSCAN model."
      ],
      "metadata": {
        "id": "CWM2BVOTrOLB"
      }
    },
    {
      "cell_type": "code",
      "source": [
        "new_neighbors = NearestNeighbors(n_neighbors=2).fit(cc_data_p)\n",
        "new_distances, new_indices = new_neighbors.kneighbors(cc_data_p)"
      ],
      "metadata": {
        "id": "gEANdHBUrRow"
      },
      "execution_count": 123,
      "outputs": []
    },
    {
      "cell_type": "code",
      "source": [
        "new_distances_plot = np.sort(new_distances, axis=0)[:,1]\n",
        "# Only plot points at the graph's elbow\n",
        "plt.plot(new_distances_plot[210000:284000])\n",
        "plt.xlabel('Data Points by Distance')\n",
        "plt.ylabel('Epsilon Value')\n",
        "plt.title('K-Distance Evaluation Graph')\n",
        "plt.show()"
      ],
      "metadata": {
        "colab": {
          "base_uri": "https://localhost:8080/",
          "height": 472
        },
        "id": "_k6qW2e-rjsh",
        "outputId": "13979bcf-c946-4a9a-c065-d2fb65c2acd8"
      },
      "execution_count": 124,
      "outputs": [
        {
          "output_type": "display_data",
          "data": {
            "text/plain": [
              "<Figure size 640x480 with 1 Axes>"
            ],
            "image/png": "[encoded data removed]"
          },
          "metadata": {}
        }
      ]
    },
    {
      "cell_type": "markdown",
      "source": [
        "Here we can see that the new epsilon value we should use is roughly 0.003.\n",
        "\n",
        "As the dataset only has 2 dimensions now we will set minPts to 4. "
      ],
      "metadata": {
        "id": "uflB7XTtrvEb"
      }
    },
    {
      "cell_type": "code",
      "source": [
        "# Fitting DBSCAN to reduced data\n",
        "red_model = DBSCAN(eps=0.003, min_samples=4).fit(cc_data_p)"
      ],
      "metadata": {
        "id": "45jUMYdpruke"
      },
      "execution_count": 125,
      "outputs": []
    },
    {
      "cell_type": "code",
      "source": [
        "print(\"Clusters:\", len(np.unique(red_model.labels_))-1)\n",
        "print(\"Anomalies Detected:\", list(red_model.labels_).count(-1))\n",
        "print(\"True Anomaly Count:\",cc_data['Class'].value_counts()[1])\n",
        "TP = cc_data.iloc[np.argwhere(red_model.labels_ == -1).reshape((-1,))]['Class'].value_counts()[1]\n",
        "print(\"True Positives:\", TP)\n",
        "print(\"False Positive:\", list(red_model.labels_).count(-1) - TP)"
      ],
      "metadata": {
        "colab": {
          "base_uri": "https://localhost:8080/"
        },
        "id": "GRptc2dvsOWY",
        "outputId": "2cb1ec07-16dd-4d77-8834-c3e3e3d3fca0"
      },
      "execution_count": 126,
      "outputs": [
        {
          "output_type": "stream",
          "name": "stdout",
          "text": [
            "Clusters: 3299\n",
            "Anomalies Detected: 24090\n",
            "True Anomaly Count: 492\n",
            "True Positives: 2\n",
            "False Positive: 24088\n"
          ]
        }
      ]
    },
    {
      "cell_type": "markdown",
      "source": [
        "This reduced model seems to have significantly worse performance than the previous model. In this scenario we can see that the DBSCAN model does not seem to isolate the outliers effectively.\n",
        "\n",
        "Now we will attempt to identify anomalous behaviour using a decision tree classifier. A XGDBoost classifier is a supervised learning method that may perform better."
      ],
      "metadata": {
        "id": "rtTp7j7Jtmlv"
      }
    },
    {
      "cell_type": "markdown",
      "source": [
        "## Extreme Gradient Boosting Classifier\n",
        "\n",
        "XGDBoost is a machine learning algorithm known for its efficiency and effectiveness in handling structured data like ours. It is similar to other gradient boosting frameworks, which combines multiple weak predictive models to create a strong predictive model. This model has been used in real world applications due to its simplicity to implement and its performance.\n",
        "\n",
        "To use this supervised learning model we must first preproccess our data once again in order to split off labels and create a training and testing dataset.\n",
        "\n"
      ],
      "metadata": {
        "id": "pgmh4v-v7nf0"
      }
    },
    {
      "cell_type": "code",
      "source": [
        "# Isolate data from labels\n",
        "from sklearn.model_selection import train_test_split\n",
        "\n",
        "def split_data(data):\n",
        "  labels = data.values[:, -1]\n",
        "  dat = data.values[:, 0:-1]\n",
        "  # Default 25% test and 75% train split\n",
        "  return train_test_split(dat, labels)"
      ],
      "metadata": {
        "id": "4X36kv1IuEeA"
      },
      "execution_count": 167,
      "outputs": []
    },
    {
      "cell_type": "code",
      "source": [
        "alt_model_data = cc_data.copy()\n",
        "alt_model_data['Amount'] = scaler.fit_transform(alt_model_data['Amount'].values.reshape(-1,1));\n",
        "alt_model_data['Time'] = scaler.fit_transform(alt_model_data['Time'].values.reshape(-1,1));\n",
        "\n",
        "# alt_model_data.drop(['Time'], axis=1, inplace=True)\n",
        "\n",
        "Xtr, Xts, ytr, yts = split_data(alt_model_data)"
      ],
      "metadata": {
        "id": "D1OzD60sw2P6"
      },
      "execution_count": 176,
      "outputs": []
    },
    {
      "cell_type": "markdown",
      "source": [
        "Now we can train the model on our train data. We are arbitrarily choosing the max depth based on computation time."
      ],
      "metadata": {
        "id": "fRg22aX-_bII"
      }
    },
    {
      "cell_type": "code",
      "source": [
        "from xgboost import XGBClassifier\n",
        "xgb = XGBClassifier(max_depth=5)\n",
        "xgb.fit(Xtr, ytr)\n",
        "preds = xgb.predict(Xts)"
      ],
      "metadata": {
        "id": "96QF4DXGzSgD"
      },
      "execution_count": 177,
      "outputs": []
    },
    {
      "cell_type": "markdown",
      "source": [
        "Now we will take a closer look at the performance of this model."
      ],
      "metadata": {
        "id": "NkDXzbIJ_vlz"
      }
    },
    {
      "cell_type": "code",
      "source": [
        "# Confusion Matrix\n",
        "from sklearn.metrics import accuracy_score, confusion_matrix\n",
        "\n",
        "cm = confusion_matrix(yts, preds)\n",
        "print(\"Confusion Matrix\\n\",cm)\n",
        "print(\"Accuracy:\", accuracy_score(yts, preds))"
      ],
      "metadata": {
        "colab": {
          "base_uri": "https://localhost:8080/"
        },
        "id": "9D2OvUjt4IcU",
        "outputId": "281f90eb-65b8-44a9-9783-62b182dcb24d"
      },
      "execution_count": 178,
      "outputs": [
        {
          "output_type": "stream",
          "name": "stdout",
          "text": [
            "Confusion Matrix\n",
            " [[71063     5]\n",
            " [   32   102]]\n",
            "Accuracy: 0.9994803516755147\n"
          ]
        }
      ]
    },
    {
      "cell_type": "markdown",
      "source": [
        "The gradient boosting technique worked significantly better on this dataset producing an accuracy of over 99%. Further the confusion matrix shows that the recall and precision of the model satisfactory.\n",
        "\n",
        "In our dataset we had clusters of behaviors with varying densities. This, paired with the dimensionality of our data, proved very difficult for DBSCAN."
      ],
      "metadata": {
        "id": "CM8xz3gy-XvA"
      }
    }
  ]
}